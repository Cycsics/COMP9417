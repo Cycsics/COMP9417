{
 "cells": [
  {
   "cell_type": "code",
   "execution_count": 1,
   "metadata": {},
   "outputs": [],
   "source": [
    "import pandas as pd\n",
    "import numpy as np\n",
    "#显示所有列\n",
    "pd.set_option('display.max_columns', None)\n",
    "#显示所有行\n",
    "pd.set_option('display.max_rows', None)\n",
    "#设置value的显示长度为100，默认为50\n",
    "pd.set_option('max_colwidth',100)"
   ]
  },
  {
   "cell_type": "code",
   "execution_count": 2,
   "metadata": {},
   "outputs": [
    {
     "data": {
      "text/plain": [
       "Index(['Image Index', 'Finding Labels', 'Follow-up #', 'Patient ID',\n",
       "       'Patient Age', 'Patient Gender', 'View Position', 'OriginalImage[Width',\n",
       "       'Height]', 'OriginalImagePixelSpacing[x', 'y]', 'Unnamed: 11'],\n",
       "      dtype='object')"
      ]
     },
     "execution_count": 2,
     "metadata": {},
     "output_type": "execute_result"
    }
   ],
   "source": [
    "data = pd.read_csv('Data_Entry_2017.csv')\n",
    "data.columns"
   ]
  },
  {
   "cell_type": "code",
   "execution_count": 4,
   "metadata": {},
   "outputs": [],
   "source": [
    "# data.drop(labels=['Unnamed: 11'], axis=1)"
   ]
  },
  {
   "cell_type": "code",
   "execution_count": 5,
   "metadata": {},
   "outputs": [
    {
     "name": "stdout",
     "output_type": "stream",
     "text": [
      "15\n"
     ]
    }
   ],
   "source": [
    "labels={\n",
    "    'No Finding':0, \n",
    "    'Infiltration':0, \n",
    "    'Atelectasis':0, \n",
    "    'Effusion':0, \n",
    "    'Nodule':0, \n",
    "    'Pneumothorax':0, \n",
    "    'Mass':0, \n",
    "    'Cardiomegaly':0, \n",
    "    'Consolidation':0, \n",
    "    'Pleural_Thickening':0,\n",
    "    'Emphysema':0,\n",
    "    'Edema':0,\n",
    "    'Fibrosis':0,\n",
    "    'Pneumonia':0,\n",
    "    'Hernia':0\n",
    "    }\n",
    "# print(len(labels))"
   ]
  },
  {
   "cell_type": "code",
   "execution_count": 6,
   "metadata": {},
   "outputs": [],
   "source": [
    "patient_list = []\n",
    "for index, row in data.iterrows():\n",
    "    # print(row)\n",
    "    if row['Finding Labels'].find('Cardiomegaly') != -1:\n",
    "        if row['Patient ID'] not in patient_list:\n",
    "            patient_list.append(row['Patient ID'])"
   ]
  },
  {
   "cell_type": "code",
   "execution_count": 7,
   "metadata": {},
   "outputs": [],
   "source": [
    "# print(patient_list)"
   ]
  },
  {
   "cell_type": "code",
   "execution_count": 8,
   "metadata": {},
   "outputs": [
    {
     "name": "stdout",
     "output_type": "stream",
     "text": [
      "{'No Finding': 60361, 'Infiltration': 17030, 'Atelectasis': 9893, 'Effusion': 10548, 'Nodule': 5755, 'Pneumothorax': 4792, 'Mass': 5197, 'Cardiomegaly': 1093, 'Consolidation': 3694, 'Pleural_Thickening': 2938, 'Emphysema': 2284, 'Edema': 1715, 'Fibrosis': 1520, 'Pneumonia': 1104, 'Hernia': 211}\n"
     ]
    }
   ],
   "source": [
    "for index, row in data.iterrows():\n",
    "    if row['Finding Labels'].find('|') == -1:\n",
    "        labels[row['Finding Labels']] += 1\n",
    "    else:\n",
    "        words = row['Finding Labels'].split('|')\n",
    "        for word in words:\n",
    "            if row['Patient ID'] not in patient_list:\n",
    "                labels[word] += 1\n",
    "print(labels)"
   ]
  },
  {
   "cell_type": "code",
   "execution_count": 9,
   "metadata": {},
   "outputs": [],
   "source": [
    "split_data = []"
   ]
  },
  {
   "cell_type": "code",
   "execution_count": 10,
   "metadata": {},
   "outputs": [
    {
     "name": "stdout",
     "output_type": "stream",
     "text": [
      "94085\n"
     ]
    }
   ],
   "source": [
    "rows = [index for index, row in data.iterrows() if row['Patient ID'] in patient_list]\n",
    "    # # print(row)\n",
    "    # if row['Patient ID'] in patient_list:\n",
    "    #     if row['Patient ID'] not in patient_list:\n",
    "    #         patient_list.append(row['Patient ID'])\n",
    "data_1 = data.drop(rows)\n",
    "print(len(data_1))\n",
    "data_1.drop(labels=['Unnamed: 11'], axis=1)"
   ]
  },
  {
   "cell_type": "code",
   "execution_count": 13,
   "metadata": {},
   "outputs": [
    {
     "name": "stdout",
     "output_type": "stream",
     "text": [
      "{'No Finding': 53641, 'Infiltration': 15127, 'Atelectasis': 9300, 'Effusion': 9736, 'Nodule': 5533, 'Pneumothorax': 4572, 'Mass': 5022, 'Cardiomegaly': 0, 'Consolidation': 3321, 'Pleural_Thickening': 2805, 'Emphysema': 2198, 'Edema': 1554, 'Fibrosis': 1458, 'Pneumonia': 1046, 'Hernia': 198}\n"
     ]
    }
   ],
   "source": [
    "labels_2={\n",
    "    'No Finding':0, \n",
    "    'Infiltration':0, \n",
    "    'Atelectasis':0, \n",
    "    'Effusion':0, \n",
    "    'Nodule':0, \n",
    "    'Pneumothorax':0, \n",
    "    'Mass':0, \n",
    "    'Cardiomegaly':0, \n",
    "    'Consolidation':0, \n",
    "    'Pleural_Thickening':0,\n",
    "    'Emphysema':0,\n",
    "    'Edema':0,\n",
    "    'Fibrosis':0,\n",
    "    'Pneumonia':0,\n",
    "    'Hernia':0\n",
    "    }\n",
    "for index, row in data_1.iterrows():\n",
    "    if row['Finding Labels'].find('|') == -1:\n",
    "        labels_2[row['Finding Labels']] += 1\n",
    "    else:\n",
    "        words = row['Finding Labels'].split('|')\n",
    "        for word in words:\n",
    "            # if row['Patient ID'] not in patient_list:\n",
    "            labels_2[word] += 1\n",
    "print(labels_2)"
   ]
  },
  {
   "cell_type": "code",
   "execution_count": null,
   "metadata": {},
   "outputs": [],
   "source": [
    "df = data_1.to_csv('data_1.csv', index=False)"
   ]
  }
 ],
 "metadata": {
  "kernelspec": {
   "display_name": "Python 3.10.6 64-bit",
   "language": "python",
   "name": "python3"
  },
  "language_info": {
   "codemirror_mode": {
    "name": "ipython",
    "version": 3
   },
   "file_extension": ".py",
   "mimetype": "text/x-python",
   "name": "python",
   "nbconvert_exporter": "python",
   "pygments_lexer": "ipython3",
   "version": "3.10.6"
  },
  "orig_nbformat": 4,
  "vscode": {
   "interpreter": {
    "hash": "78065e30294e4af01ee2b13d0047260e4469f63d1057bd80c14fe8e5328bf648"
   }
  }
 },
 "nbformat": 4,
 "nbformat_minor": 2
}

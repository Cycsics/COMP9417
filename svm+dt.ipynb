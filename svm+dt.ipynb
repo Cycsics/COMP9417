{
 "cells": [
  {
   "cell_type": "code",
   "execution_count": 5,
   "metadata": {},
   "outputs": [],
   "source": [
    "import os\n",
    "import cv2\n",
    "import numpy as np\n",
    "import pandas as pd\n",
    "from sklearn.model_selection import train_test_split\n",
    "from sklearn.preprocessing import StandardScaler\n",
    "from sklearn.svm import SVC\n",
    "from sklearn.tree import DecisionTreeClassifier\n",
    "from sklearn.ensemble import VotingClassifier\n",
    "from sklearn.metrics import classification_report\n",
    "from joblib import Parallel, delayed\n",
    "from functools import partial\n",
    "from tqdm import tqdm\n",
    "from tqdm.contrib.logging import logging_redirect_tqdm\n",
    "from tqdm import trange"
   ]
  },
  {
   "cell_type": "code",
   "execution_count": 6,
   "metadata": {},
   "outputs": [],
   "source": [
    "def load_image(data_path, path):\n",
    "    img = cv2.imread(os.path.join(data_path, path), cv2.IMREAD_UNCHANGED)\n",
    "    if img.ndim == 3:  # Check if the image has color channels\n",
    "        img = cv2.cvtColor(img, cv2.COLOR_BGR2GRAY)\n",
    "    return cv2.resize(img, (256, 256))"
   ]
  },
  {
   "cell_type": "code",
   "execution_count": 7,
   "metadata": {},
   "outputs": [],
   "source": [
    "def load_images_and_labels(data_path, csv_path, data_fraction=1.0, n_threads=4):\n",
    "    df = pd.read_csv(csv_path)\n",
    "    df['label'] = df['Finding Labels'].apply(lambda x: 1 if x != 'No Finding' else 0)\n",
    "\n",
    "    if data_fraction < 1.0:\n",
    "        num_samples = int(len(df) * data_fraction)\n",
    "        df = df.sample(num_samples, random_state=42)\n",
    "\n",
    "    image_paths = df['Image Index'].values\n",
    "    labels = df['label'].values\n",
    "\n",
    "    images = Parallel(n_jobs=n_threads)(delayed(load_image)(data_path, path) for path in tqdm(image_paths, desc=\"Loading images\"))\n",
    "    return np.array(images), labels"
   ]
  },
  {
   "cell_type": "code",
   "execution_count": 8,
   "metadata": {},
   "outputs": [],
   "source": [
    "def preprocess_images(images):\n",
    "    return images.reshape(images.shape[0], -1)"
   ]
  },
  {
   "cell_type": "code",
   "execution_count": 9,
   "metadata": {},
   "outputs": [
    {
     "name": "stdout",
     "output_type": "stream",
     "text": [
      "Loading images and labels...\n"
     ]
    },
    {
     "name": "stderr",
     "output_type": "stream",
     "text": [
      "Loading images: 100%|██████████| 47042/47042 [10:20<00:00, 75.76it/s] \n"
     ]
    },
    {
     "name": "stdout",
     "output_type": "stream",
     "text": [
      "Scaling features...\n"
     ]
    }
   ],
   "source": [
    "data_fraction=0.5\n",
    "assert 0 < data_fraction <= 1, \"Data fraction should be between 0 and 1.\"\n",
    "\n",
    "data_path = ''\n",
    "csv_path = 'data_1.csv'\n",
    "n_threads = 24\n",
    "\n",
    "print(\"Loading images and labels...\")\n",
    "images, labels = load_images_and_labels(data_path, csv_path, data_fraction, n_threads)\n",
    "\n",
    "if data_fraction < 1.0:\n",
    "    num_samples = int(len(images) * data_fraction)\n",
    "    indices = np.random.choice(len(images), num_samples, replace=False)\n",
    "    images = images[indices]\n",
    "    labels = labels[indices]\n",
    "\n",
    "images = preprocess_images(images)\n",
    "X_train, X_test, y_train, y_test = train_test_split(images, labels, test_size=0.2, random_state=42)\n",
    "\n",
    "print(\"Scaling features...\")\n",
    "scaler = StandardScaler()\n",
    "X_train = scaler.fit_transform(X_train)\n",
    "X_test = scaler.transform(X_test)\n",
    "\n"
   ]
  },
  {
   "cell_type": "code",
   "execution_count": 10,
   "metadata": {},
   "outputs": [
    {
     "name": "stdout",
     "output_type": "stream",
     "text": [
      "Training SVM and Decision Tree...\n"
     ]
    },
    {
     "name": "stderr",
     "output_type": "stream",
     "text": [
      "  0%|          | 0/10 [00:00<?, ?it/s]"
     ]
    },
    {
     "name": "stdout",
     "output_type": "stream",
     "text": [
      "[LibSVM]"
     ]
    }
   ],
   "source": [
    "print(\"Training SVM and Decision Tree...\")\n",
    "svm_clf = SVC(verbose=True)\n",
    "tree_clf = DecisionTreeClassifier()\n",
    "\n",
    "combined_clf = VotingClassifier(estimators=[('svm', svm_clf), ('tree', tree_clf)], voting='hard', verbose=1)\n",
    "\n",
    "with logging_redirect_tqdm():  # Redirect verbose output to tqdm\n",
    "    for _ in trange(10):  # 迭代次数为10，可以根据具体情况修改\n",
    "        combined_clf.fit(X_train, y_train)\n",
    "\n",
    "y_pred_combined = combined_clf.predict(X_test)\n",
    "print(\"\\nCombined Classifier (SVM and Decision Tree):\")\n",
    "print(classification_report(y_test, y_pred_combined))"
   ]
  }
 ],
 "metadata": {
  "kernelspec": {
   "display_name": "Python 3.10.6 64-bit",
   "language": "python",
   "name": "python3"
  },
  "language_info": {
   "codemirror_mode": {
    "name": "ipython",
    "version": 3
   },
   "file_extension": ".py",
   "mimetype": "text/x-python",
   "name": "python",
   "nbconvert_exporter": "python",
   "pygments_lexer": "ipython3",
   "version": "3.10.6"
  },
  "orig_nbformat": 4,
  "vscode": {
   "interpreter": {
    "hash": "78065e30294e4af01ee2b13d0047260e4469f63d1057bd80c14fe8e5328bf648"
   }
  }
 },
 "nbformat": 4,
 "nbformat_minor": 2
}
